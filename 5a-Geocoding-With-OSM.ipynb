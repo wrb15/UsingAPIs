{
 "cells": [
  {
   "cell_type": "markdown",
   "metadata": {},
   "source": [
    "## Geocoding using the Open Street Map API\n",
    "\n",
    "Here we explore an example of using an Application Programming Interface, or API. Briefly, an API is a set of commands we can send over the internet to a remote server, spurring the server to process these commands and return a response. In this example, we'll explore how we can use the Open Street Map's geocoding API to get the coordinates responding to a particular address.\n",
    "\n",
    "This is not an in-depth exploration of this particular API, but rather an introduction on how to use an API within Python, specfically using the handy `requests` and `json` libraries. "
   ]
  },
  {
   "cell_type": "markdown",
   "metadata": {},
   "source": [
    "---\n",
    "First we import the `requests` and `json` modules.<br>Usfeful documentation on these modules are found here: <br>\n",
    "* `requests`: http://docs.python-requests.org\n",
    "* `json`: https://pymotw.com/2/json/"
   ]
  },
  {
   "cell_type": "code",
   "execution_count": null,
   "metadata": {
    "collapsed": true
   },
   "outputs": [],
   "source": [
    "#Import the request module\n",
    "import requests"
   ]
  },
  {
   "cell_type": "markdown",
   "metadata": {},
   "source": [
    "---\n",
    "Now we will form the request to invoke the Open Street Map API. Documentation on this API is found here: \n",
    "http://wiki.openstreetmap.org/wiki/Nominatim\n",
    "\n",
    "First, we'll generate an example address to geocode. Why not use Environment Hall? But feel free to use your own address!"
   ]
  },
  {
   "cell_type": "code",
   "execution_count": null,
   "metadata": {
    "collapsed": true
   },
   "outputs": [],
   "source": [
    "#Get the address\n",
    "address = '9 Circuit Drive, Durham, NC, 27708' "
   ]
  },
  {
   "cell_type": "markdown",
   "metadata": {},
   "source": [
    "An API request consists two components: the **service endpoint** and a set of **parameters** associated with the service. \n",
    "\n",
    "When using the `requests` module to create and send our request, we supply the service endpoint is a string containing the server address (as a URL) and the service name (here, it's `search`). And the parameters are supplied in the form of a Python dictionary. Here, the two paramters we'll pass are the `format` and `address` parameters. "
   ]
  },
  {
   "cell_type": "code",
   "execution_count": null,
   "metadata": {
    "collapsed": true
   },
   "outputs": [],
   "source": [
    "#Form the request\n",
    "osmURL = 'http://nominatim.openstreetmap.org/search'\n",
    "params = {'format':'json','q':address} "
   ]
  },
  {
   "cell_type": "markdown",
   "metadata": {},
   "source": [
    "Now, we can use `requests` to send our command off to the OSM server. The server's response is saved as the `response` variable."
   ]
  },
  {
   "cell_type": "code",
   "execution_count": null,
   "metadata": {
    "collapsed": true
   },
   "outputs": [],
   "source": [
    "#Send the request\n",
    "response = requests.get(osmURL, params)"
   ]
  },
  {
   "cell_type": "markdown",
   "metadata": {},
   "source": [
    "The `response` object below contains a lot of information. You are encouraged to explore this object further. Here we'll explore one property which is the full URL created. Copy and paste the result in your favorite browser, and you'll see the result of our request in raw form. When you try this, try changing 'json' to 'html' in the URL..."
   ]
  },
  {
   "cell_type": "code",
   "execution_count": null,
   "metadata": {},
   "outputs": [],
   "source": [
    "response.url"
   ]
  },
  {
   "cell_type": "code",
   "execution_count": null,
   "metadata": {},
   "outputs": [],
   "source": [
    "#Opens the URL as an html response (vs JSON) in a web browser...\n",
    "import webbrowser\n",
    "webbrowser.open_new(response.url.replace('json','html'))"
   ]
  },
  {
   "cell_type": "markdown",
   "metadata": {},
   "source": [
    "What we really want from the response, however, is the data returned by the service. The `json` function of the `response` object converts the response to an object in JavaScript Object Notation, or JSON. JSON is esentially a list of dictionaries that we can easily manipulate in Python."
   ]
  },
  {
   "cell_type": "code",
   "execution_count": null,
   "metadata": {
    "collapsed": true
   },
   "outputs": [],
   "source": [
    "#Read in the response as a JSON encoded object\n",
    "jsonObj = response.json()"
   ]
  },
  {
   "cell_type": "markdown",
   "metadata": {},
   "source": [
    "`pprint` or \"pretty print\" allows us to display JSON objects in a readable format. Let's make a pretty print of our JSON repsonse. "
   ]
  },
  {
   "cell_type": "code",
   "execution_count": null,
   "metadata": {},
   "outputs": [],
   "source": [
    "from pprint import pprint\n",
    "pprint(jsonObj)"
   ]
  },
  {
   "cell_type": "markdown",
   "metadata": {},
   "source": [
    "Our response contains only one item in the JSON list. We'll extract to a dictionary and print it's items."
   ]
  },
  {
   "cell_type": "code",
   "execution_count": null,
   "metadata": {},
   "outputs": [],
   "source": [
    "dataDict = jsonObj[0]\n",
    "print dataDict.keys()"
   ]
  },
  {
   "cell_type": "markdown",
   "metadata": {},
   "source": [
    "Now we can easily grab the lat and lon objects from our response"
   ]
  },
  {
   "cell_type": "code",
   "execution_count": null,
   "metadata": {},
   "outputs": [],
   "source": [
    "d = jsonObj[0]\n",
    "lat = d['lat']\n",
    "lng = d['lon']\n",
    "print lat, lng"
   ]
  },
  {
   "cell_type": "markdown",
   "metadata": {
    "collapsed": true
   },
   "source": [
    "Now let's inform the user of the result of the whole process..."
   ]
  },
  {
   "cell_type": "code",
   "execution_count": null,
   "metadata": {},
   "outputs": [],
   "source": [
    "print \"The address {0} is located at\\n{1}° Lat, {2}° Lon\".format(address,lat,lng)"
   ]
  }
 ],
 "metadata": {
  "kernelspec": {
   "display_name": "Python 3",
   "language": "python",
   "name": "python3"
  },
  "language_info": {
   "codemirror_mode": {
    "name": "ipython",
    "version": 3
   },
   "file_extension": ".py",
   "mimetype": "text/x-python",
   "name": "python",
   "nbconvert_exporter": "python",
   "pygments_lexer": "ipython3",
   "version": "3.6.5"
  }
 },
 "nbformat": 4,
 "nbformat_minor": 2
}
