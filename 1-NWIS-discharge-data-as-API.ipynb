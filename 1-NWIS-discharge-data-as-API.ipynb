{
 "cells": [
  {
   "cell_type": "markdown",
   "metadata": {},
   "source": [
    "# Accessing the NWIS Discharge data  - as an API\n",
    "In the last session, we used `urllib` and `pandas` to retrieve data from a static URL. Here we refine that procedure to again retrieve water flow data from the NWIS website. What's different this time, however, is that we examine the URL as a web service, dissecting it into its components (web service address and web service parameters). We also switch to using the Python `requests` package to handle the interaction, as it's slightly more user friendly than the `urllib` package. "
   ]
  },
  {
   "cell_type": "markdown",
   "metadata": {},
   "source": [
    "The URL listing current discharge conditions in the Eno near Durham gage site is here: \n",
    "```html\n",
    "http://waterdata.usgs.gov/nwis/uv?cb_00060=on&cb_00065=on&format=rdb&site_no=02085070&period=1&begin_date=&end_date=\n",
    "```"
   ]
  },
  {
   "cell_type": "markdown",
   "metadata": {},
   "source": [
    "As you'll see in the example below, the `requests` package constructs a web service request with two parameters. The first is the full service address (`http://waterdata.usgs.gov/nwis/uv`), which is followed by the set of service parameters, passed as a Python dictionary."
   ]
  },
  {
   "cell_type": "code",
   "execution_count": 1,
   "metadata": {},
   "outputs": [],
   "source": [
    "#import packages\n",
    "import requests"
   ]
  },
  {
   "cell_type": "code",
   "execution_count": 2,
   "metadata": {},
   "outputs": [],
   "source": [
    "#dissect the URL into it's components, for easy comprehension -- and easy modification\n",
    "serviceURL = 'http://waterdata.usgs.gov/nwis/uv'\n",
    "parameters = {'cb_00060':'on',\n",
    "              'cb_00065':'on',\n",
    "              'format':'rdb',\n",
    "              'period':'1',\n",
    "              'site_no':'02085070',\n",
    "              'begin_date':'',\n",
    "              'end_date':''\n",
    "             }"
   ]
  },
  {
   "cell_type": "markdown",
   "metadata": {},
   "source": [
    "Ok, here we send the request, storing the response in a variable called `response`. The second line extacts the response as raw text into the variable `responseText`."
   ]
  },
  {
   "cell_type": "code",
   "execution_count": 3,
   "metadata": {},
   "outputs": [],
   "source": [
    "#Pass the url and its parameters to the server and get its response\n",
    "response = requests.get(serviceURL, parameters)\n",
    "responseText = response.text"
   ]
  },
  {
   "cell_type": "code",
   "execution_count": 4,
   "metadata": {
    "scrolled": true
   },
   "outputs": [
    {
     "name": "stdout",
     "output_type": "stream",
     "text": [
      "# ---------------------------------- WARNING ----------------------------------------\n",
      "# Some of the data that you have obtained from this U.S. Geological Survey database\n",
      "# may not have received Director's approval. Any such data values are qualified\n",
      "# as provisional and are subject to revision. Provisional data are released on the\n",
      "# condition that neither the USGS nor the United States Government may be held liable\n",
      "# for any damages resulting from its use.\n",
      "#\n",
      "# Additional info: https://help.waterdata.usgs.gov/policies/provisional-data-statement\n",
      "#\n",
      "# File-format description:  https://help.waterdata.usgs.gov/faq/about-tab-delimited-output\n",
      "# Automated-retrieval info: https://help.waterdata.usgs.gov/faq/automated-retrievals\n",
      "#\n",
      "# Contact:   gs-w_support_nwisweb@usgs.gov\n",
      "# retrieved: 2018-10-31 12:19:57 EDT       (caww01)\n",
      "#\n",
      "# Data for the following 1 site(s) are contained in this file\n",
      "#    USGS 02085070 ENO RIVER NEAR DURHAM, NC\n",
      "# -----------------------------------------------------------------------------------\n",
      "#\n",
      "# Data provided for site 02085070\n",
      "#            TS   parameter     Description\n",
      "#         89062       00060     Discharge, cubic feet per second\n",
      "#         89063       00065     Gage height, feet\n",
      "#\n",
      "# Data-value qualification codes included in this output:\n",
      "#     P  Provisional data subject to revision.\n",
      "# \n",
      "agency_cd\tsite_no\tdatetime\ttz_cd\t89062_00060\t89062_00060_cd\t89063_00065\t89063_00065_cd\n",
      "5s\t15s\t20d\t6s\t14n\t10s\t14n\t10s\n",
      "USGS\t02085070\t2018-10-30 00:00\tEDT\t106\tP\t2.22\tP\n",
      "USGS\t02085070\t2018-10-30 00:15\tEDT\t106\tP\t2.22\tP\n",
      "USGS\t02085070\t2018-10-30 00:30\tEDT\t104\tP\t2.21\tP\n",
      "USGS\t02085070\t2018-10-30 00:45\tEDT\t104\tP\t2.21\tP\n",
      "USGS\t02085070\t2018-10-30 01:00\tEDT\t104\tP\t2.21\tP\n",
      "USGS\t02085070\t2018-10-30 01:15\tEDT\t104\tP\t2.21\tP\n",
      "USGS\t02085070\t2018-10-30 01:30\tEDT\t103\tP\t2.20\tP\n",
      "USGS\t02085070\t2018-10-30 01:45\tEDT\t103\tP\t2.20\tP\n",
      "USGS\t02085070\t2018-10-30 02:00\tEDT\t103\tP\t2.20\tP\n",
      "USGS\t02085070\t2018-10-30 02:15\tEDT\t103\tP\t2.20\tP\n",
      "USGS\t02085070\t2018-10-30 02:30\tEDT\t101\tP\t2.19\tP\n",
      "USGS\t02085070\t2018-10-30 02:45\tEDT\t101\tP\t2.19\tP\n",
      "USGS\t02085070\t2018-10-30 03:00\tEDT\t101\tP\t2.19\tP\n",
      "USGS\t02085070\t2018-10-30 03:15\tEDT\t101\tP\t2.19\tP\n",
      "USGS\t02085070\t2018-10-30 03:30\tEDT\t99.8\tP\t2.18\tP\n",
      "USGS\t02085070\t2018-10-30 03:45\tEDT\t99.8\tP\t2.18\tP\n",
      "USGS\t02085070\t2018-10-30 04:00\tEDT\t99.8\tP\t2.18\tP\n",
      "USGS\t02085070\t2018-10-30 04:15\tEDT\t99.8\tP\t2.18\tP\n",
      "USGS\t02085070\t2018-10-30 04:30\tEDT\t97.9\tP\t2.17\tP\n",
      "USGS\t02085070\t2018-10-30 04:45\tEDT\t97.9\tP\t2.17\tP\n",
      "USGS\t02085070\t2018-10-30 05:00\tEDT\t97.9\tP\t2.17\tP\n",
      "USGS\t02085070\t2018-10-30 05:15\tEDT\t97.9\tP\t2.17\tP\n",
      "USGS\t02085070\t2018-10-30 05:30\tEDT\t96.0\tP\t2.16\tP\n",
      "USGS\t02085070\t2018-10-30 05:45\tEDT\t96.0\tP\t2.16\tP\n",
      "USGS\t02085070\t2018-10-30 06:00\tEDT\t96.0\tP\t2.16\tP\n",
      "USGS\t02085070\t2018-10-30 06:15\tEDT\t96.0\tP\t2.16\tP\n",
      "USGS\t02085070\t2018-10-30 06:30\tEDT\t96.0\tP\t2.16\tP\n",
      "USGS\t02085070\t2018-10-30 06:45\tEDT\t94.2\tP\t2.15\tP\n",
      "USGS\t02085070\t2018-10-30 07:00\tEDT\t94.2\tP\t2.15\tP\n",
      "USGS\t02085070\t2018-10-30 07:15\tEDT\t94.2\tP\t2.15\tP\n",
      "USGS\t02085070\t2018-10-30 07:30\tEDT\t94.2\tP\t2.15\tP\n",
      "USGS\t02085070\t2018-10-30 07:45\tEDT\t94.2\tP\t2.15\tP\n",
      "USGS\t02085070\t2018-10-30 08:00\tEDT\t94.2\tP\t2.15\tP\n",
      "USGS\t02085070\t2018-10-30 08:15\tEDT\t94.2\tP\t2.15\tP\n",
      "USGS\t02085070\t2018-10-30 08:30\tEDT\t92.4\tP\t2.14\tP\n",
      "USGS\t02085070\t2018-10-30 08:45\tEDT\t92.4\tP\t2.14\tP\n",
      "USGS\t02085070\t2018-10-30 09:00\tEDT\t92.4\tP\t2.14\tP\n",
      "USGS\t02085070\t2018-10-30 09:15\tEDT\t92.4\tP\t2.14\tP\n",
      "USGS\t02085070\t2018-10-30 09:30\tEDT\t92.4\tP\t2.14\tP\n",
      "USGS\t02085070\t2018-10-30 09:45\tEDT\t92.4\tP\t2.14\tP\n",
      "USGS\t02085070\t2018-10-30 10:00\tEDT\t92.4\tP\t2.14\tP\n",
      "USGS\t02085070\t2018-10-30 10:15\tEDT\t92.4\tP\t2.14\tP\n",
      "USGS\t02085070\t2018-10-30 10:30\tEDT\t92.4\tP\t2.14\tP\n",
      "USGS\t02085070\t2018-10-30 10:45\tEDT\t92.4\tP\t2.14\tP\n",
      "USGS\t02085070\t2018-10-30 11:00\tEDT\t92.4\tP\t2.14\tP\n",
      "USGS\t02085070\t2018-10-30 11:15\tEDT\t90.6\tP\t2.13\tP\n",
      "USGS\t02085070\t2018-10-30 11:30\tEDT\t90.6\tP\t2.13\tP\n",
      "USGS\t02085070\t2018-10-30 11:45\tEDT\t92.4\tP\t2.14\tP\n",
      "USGS\t02085070\t2018-10-30 12:00\tEDT\t90.6\tP\t2.13\tP\n",
      "USGS\t02085070\t2018-10-30 12:15\tEDT\t90.6\tP\t2.13\tP\n",
      "USGS\t02085070\t2018-10-30 12:30\tEDT\t90.6\tP\t2.13\tP\n",
      "USGS\t02085070\t2018-10-30 12:45\tEDT\t90.6\tP\t2.13\tP\n",
      "USGS\t02085070\t2018-10-30 13:00\tEDT\t90.6\tP\t2.13\tP\n",
      "USGS\t02085070\t2018-10-30 13:15\tEDT\t90.6\tP\t2.13\tP\n",
      "USGS\t02085070\t2018-10-30 13:30\tEDT\t90.6\tP\t2.13\tP\n",
      "USGS\t02085070\t2018-10-30 13:45\tEDT\t88.9\tP\t2.12\tP\n",
      "USGS\t02085070\t2018-10-30 14:00\tEDT\t88.9\tP\t2.12\tP\n",
      "USGS\t02085070\t2018-10-30 14:15\tEDT\t90.6\tP\t2.13\tP\n",
      "USGS\t02085070\t2018-10-30 14:30\tEDT\t90.6\tP\t2.13\tP\n",
      "USGS\t02085070\t2018-10-30 14:45\tEDT\t88.9\tP\t2.12\tP\n",
      "USGS\t02085070\t2018-10-30 15:00\tEDT\t88.9\tP\t2.12\tP\n",
      "USGS\t02085070\t2018-10-30 15:15\tEDT\t88.9\tP\t2.12\tP\n",
      "USGS\t02085070\t2018-10-30 15:30\tEDT\t88.9\tP\t2.12\tP\n",
      "USGS\t02085070\t2018-10-30 15:45\tEDT\t88.9\tP\t2.12\tP\n",
      "USGS\t02085070\t2018-10-30 16:00\tEDT\t88.9\tP\t2.12\tP\n",
      "USGS\t02085070\t2018-10-30 16:15\tEDT\t87.2\tP\t2.11\tP\n",
      "USGS\t02085070\t2018-10-30 16:30\tEDT\t87.2\tP\t2.11\tP\n",
      "USGS\t02085070\t2018-10-30 16:45\tEDT\t87.2\tP\t2.11\tP\n",
      "USGS\t02085070\t2018-10-30 17:00\tEDT\t87.2\tP\t2.11\tP\n",
      "USGS\t02085070\t2018-10-30 17:15\tEDT\t87.2\tP\t2.11\tP\n",
      "USGS\t02085070\t2018-10-30 17:30\tEDT\t87.2\tP\t2.11\tP\n",
      "USGS\t02085070\t2018-10-30 17:45\tEDT\t85.5\tP\t2.10\tP\n",
      "USGS\t02085070\t2018-10-30 18:00\tEDT\t85.5\tP\t2.10\tP\n",
      "USGS\t02085070\t2018-10-30 18:15\tEDT\t85.5\tP\t2.10\tP\n",
      "USGS\t02085070\t2018-10-30 18:30\tEDT\t85.5\tP\t2.10\tP\n",
      "USGS\t02085070\t2018-10-30 18:45\tEDT\t85.5\tP\t2.10\tP\n",
      "USGS\t02085070\t2018-10-30 19:00\tEDT\t85.5\tP\t2.10\tP\n",
      "USGS\t02085070\t2018-10-30 19:15\tEDT\t83.8\tP\t2.09\tP\n",
      "USGS\t02085070\t2018-10-30 19:30\tEDT\t85.5\tP\t2.10\tP\n",
      "USGS\t02085070\t2018-10-30 19:45\tEDT\t83.8\tP\t2.09\tP\n",
      "USGS\t02085070\t2018-10-30 20:00\tEDT\t83.8\tP\t2.09\tP\n",
      "USGS\t02085070\t2018-10-30 20:15\tEDT\t83.8\tP\t2.09\tP\n",
      "USGS\t02085070\t2018-10-30 20:30\tEDT\t83.8\tP\t2.09\tP\n",
      "USGS\t02085070\t2018-10-30 20:45\tEDT\t83.8\tP\t2.09\tP\n",
      "USGS\t02085070\t2018-10-30 21:00\tEDT\t83.8\tP\t2.09\tP\n",
      "USGS\t02085070\t2018-10-30 21:15\tEDT\t83.8\tP\t2.09\tP\n",
      "USGS\t02085070\t2018-10-30 21:30\tEDT\t82.2\tP\t2.08\tP\n",
      "USGS\t02085070\t2018-10-30 21:45\tEDT\t82.2\tP\t2.08\tP\n",
      "USGS\t02085070\t2018-10-30 22:00\tEDT\t82.2\tP\t2.08\tP\n",
      "USGS\t02085070\t2018-10-30 22:15\tEDT\t82.2\tP\t2.08\tP\n",
      "USGS\t02085070\t2018-10-30 22:30\tEDT\t82.2\tP\t2.08\tP\n",
      "USGS\t02085070\t2018-10-30 22:45\tEDT\t82.2\tP\t2.08\tP\n",
      "USGS\t02085070\t2018-10-30 23:00\tEDT\t80.6\tP\t2.07\tP\n",
      "USGS\t02085070\t2018-10-30 23:15\tEDT\t80.6\tP\t2.07\tP\n",
      "USGS\t02085070\t2018-10-30 23:30\tEDT\t80.6\tP\t2.07\tP\n",
      "USGS\t02085070\t2018-10-30 23:45\tEDT\t80.6\tP\t2.07\tP\n",
      "USGS\t02085070\t2018-10-31 00:00\tEDT\t80.6\tP\t2.07\tP\n",
      "USGS\t02085070\t2018-10-31 00:15\tEDT\t80.6\tP\t2.07\tP\n",
      "USGS\t02085070\t2018-10-31 00:30\tEDT\t80.6\tP\t2.07\tP\n",
      "USGS\t02085070\t2018-10-31 00:45\tEDT\t80.6\tP\t2.07\tP\n",
      "USGS\t02085070\t2018-10-31 01:00\tEDT\t79.0\tP\t2.06\tP\n",
      "USGS\t02085070\t2018-10-31 01:15\tEDT\t79.0\tP\t2.06\tP\n",
      "USGS\t02085070\t2018-10-31 01:30\tEDT\t79.0\tP\t2.06\tP\n",
      "USGS\t02085070\t2018-10-31 01:45\tEDT\t79.0\tP\t2.06\tP\n",
      "USGS\t02085070\t2018-10-31 02:00\tEDT\t79.0\tP\t2.06\tP\n",
      "USGS\t02085070\t2018-10-31 02:15\tEDT\t79.0\tP\t2.06\tP\n",
      "USGS\t02085070\t2018-10-31 02:30\tEDT\t77.5\tP\t2.05\tP\n",
      "USGS\t02085070\t2018-10-31 02:45\tEDT\t79.0\tP\t2.06\tP\n",
      "USGS\t02085070\t2018-10-31 03:00\tEDT\t77.5\tP\t2.05\tP\n",
      "USGS\t02085070\t2018-10-31 03:15\tEDT\t77.5\tP\t2.05\tP\n",
      "USGS\t02085070\t2018-10-31 03:30\tEDT\t77.5\tP\t2.05\tP\n",
      "USGS\t02085070\t2018-10-31 03:45\tEDT\t77.5\tP\t2.05\tP\n",
      "USGS\t02085070\t2018-10-31 04:00\tEDT\t77.5\tP\t2.05\tP\n",
      "USGS\t02085070\t2018-10-31 04:15\tEDT\t77.5\tP\t2.05\tP\n",
      "USGS\t02085070\t2018-10-31 04:30\tEDT\t75.9\tP\t2.04\tP\n",
      "USGS\t02085070\t2018-10-31 04:45\tEDT\t75.9\tP\t2.04\tP\n",
      "USGS\t02085070\t2018-10-31 05:00\tEDT\t75.9\tP\t2.04\tP\n",
      "USGS\t02085070\t2018-10-31 05:15\tEDT\t75.9\tP\t2.04\tP\n",
      "USGS\t02085070\t2018-10-31 05:30\tEDT\t75.9\tP\t2.04\tP\n",
      "USGS\t02085070\t2018-10-31 05:45\tEDT\t75.9\tP\t2.04\tP\n",
      "USGS\t02085070\t2018-10-31 06:00\tEDT\t75.9\tP\t2.04\tP\n",
      "USGS\t02085070\t2018-10-31 06:15\tEDT\t75.9\tP\t2.04\tP\n",
      "USGS\t02085070\t2018-10-31 06:30\tEDT\t75.9\tP\t2.04\tP\n",
      "USGS\t02085070\t2018-10-31 06:45\tEDT\t75.9\tP\t2.04\tP\n",
      "USGS\t02085070\t2018-10-31 07:00\tEDT\t74.4\tP\t2.03\tP\n",
      "USGS\t02085070\t2018-10-31 07:15\tEDT\t74.4\tP\t2.03\tP\n",
      "USGS\t02085070\t2018-10-31 07:30\tEDT\t74.4\tP\t2.03\tP\n",
      "USGS\t02085070\t2018-10-31 07:45\tEDT\t74.4\tP\t2.03\tP\n",
      "USGS\t02085070\t2018-10-31 08:00\tEDT\t74.4\tP\t2.03\tP\n",
      "USGS\t02085070\t2018-10-31 08:15\tEDT\t74.4\tP\t2.03\tP\n",
      "USGS\t02085070\t2018-10-31 08:30\tEDT\t74.4\tP\t2.03\tP\n",
      "USGS\t02085070\t2018-10-31 08:45\tEDT\t74.4\tP\t2.03\tP\n",
      "USGS\t02085070\t2018-10-31 09:00\tEDT\t74.4\tP\t2.03\tP\n",
      "USGS\t02085070\t2018-10-31 09:15\tEDT\t74.4\tP\t2.03\tP\n",
      "USGS\t02085070\t2018-10-31 09:30\tEDT\t74.4\tP\t2.03\tP\n",
      "USGS\t02085070\t2018-10-31 09:45\tEDT\t74.4\tP\t2.03\tP\n",
      "USGS\t02085070\t2018-10-31 10:00\tEDT\t73.0\tP\t2.02\tP\n",
      "USGS\t02085070\t2018-10-31 10:15\tEDT\t73.0\tP\t2.02\tP\n",
      "USGS\t02085070\t2018-10-31 10:30\tEDT\t73.0\tP\t2.02\tP\n",
      "USGS\t02085070\t2018-10-31 10:45\tEDT\t73.0\tP\t2.02\tP\n",
      "USGS\t02085070\t2018-10-31 11:00\tEDT\t73.0\tP\t2.02\tP\n",
      "USGS\t02085070\t2018-10-31 11:15\tEDT\t73.0\tP\t2.02\tP\n",
      "\n"
     ]
    }
   ],
   "source": [
    "#What did we get? \n",
    "print(responseText)"
   ]
  },
  {
   "cell_type": "markdown",
   "metadata": {},
   "source": [
    "If you scroll all the way to the last line in the file, you get the most recent reading. We can use some Python to print out what this reading is... "
   ]
  },
  {
   "cell_type": "code",
   "execution_count": 5,
   "metadata": {},
   "outputs": [
    {
     "name": "stdout",
     "output_type": "stream",
     "text": [
      "Site 02085070 recorded a discharge of 73.0 cfs on 2018-10-31 11:15\n"
     ]
    }
   ],
   "source": [
    "#Convert the response text into a list of lines and print the second to last line\n",
    "responseLines = responseText.split('\\n')\n",
    "lastRecord = responseLines[-2].split('\\t')\n",
    "site = lastRecord[1]\n",
    "cfs = lastRecord[4]\n",
    "date = lastRecord[2]\n",
    "print(\"Site {0} recorded a discharge of {1} cfs on {2}\".format(site,cfs,date))"
   ]
  },
  {
   "cell_type": "markdown",
   "metadata": {},
   "source": [
    "► **EXERCISE**: The 3 code blocks below are copies of the ones above. Modify these code blocks to get data for site 02085039 (Eno River At Cole Mill Rd Nr Huckleberry Spring), and print out its most recent *gage height* (in feet):"
   ]
  },
  {
   "cell_type": "code",
   "execution_count": null,
   "metadata": {},
   "outputs": [],
   "source": [
    "#dissect the URL into it's components, for easy comprehension -- and easy modification\n",
    "serviceURL = 'http://waterdata.usgs.gov/nwis/uv'\n",
    "parameters = {'cb_00060':'on',\n",
    "              'cb_00065':'on',\n",
    "              'format':'rdb',\n",
    "              'period':'1',\n",
    "              'site_no':'02085070',\n",
    "              'begin_date':'',\n",
    "              'end_date':''\n",
    "             }"
   ]
  },
  {
   "cell_type": "code",
   "execution_count": null,
   "metadata": {},
   "outputs": [],
   "source": [
    "#Pass the url and its parameters to the server and get its response\n",
    "response = requests.get(serviceURL, parameters)\n",
    "responseText = response.text"
   ]
  },
  {
   "cell_type": "code",
   "execution_count": null,
   "metadata": {},
   "outputs": [],
   "source": [
    "#Convert the response text into a list of lines and print the second to last line\n",
    "responseLines = responseText.split('\\n')\n",
    "lastRecord = responseLines[-2].split('\\t')\n",
    "site = lastRecord[1]\n",
    "cfs = lastRecord[4]\n",
    "date = lastRecord[2]\n",
    "print(\"Site {0} recorded a discharge of {1} cfs on {2}\".format(site,cfs,date))"
   ]
  }
 ],
 "metadata": {
  "kernelspec": {
   "display_name": "Python 3",
   "language": "python",
   "name": "python3"
  },
  "language_info": {
   "codemirror_mode": {
    "name": "ipython",
    "version": 3
   },
   "file_extension": ".py",
   "mimetype": "text/x-python",
   "name": "python",
   "nbconvert_exporter": "python",
   "pygments_lexer": "ipython3",
   "version": "3.6.5"
  }
 },
 "nbformat": 4,
 "nbformat_minor": 2
}
